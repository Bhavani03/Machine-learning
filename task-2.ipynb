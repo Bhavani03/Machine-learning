{
  "nbformat": 4,
  "nbformat_minor": 0,
  "metadata": {
    "colab": {
      "name": "Untitled4.ipynb",
      "provenance": [],
      "authorship_tag": "ABX9TyPF53mM2bUDAbJWZKKf2REi",
      "include_colab_link": true
    },
    "kernelspec": {
      "name": "python3",
      "display_name": "Python 3"
    }
  },
  "cells": [
    {
      "cell_type": "markdown",
      "metadata": {
        "id": "view-in-github",
        "colab_type": "text"
      },
      "source": [
        "<a href=\"https://colab.research.google.com/github/Bhavani03/Machine-learning/blob/master/task-2.ipynb\" target=\"_parent\"><img src=\"https://colab.research.google.com/assets/colab-badge.svg\" alt=\"Open In Colab\"/></a>"
      ]
    },
    {
      "cell_type": "code",
      "metadata": {
        "id": "_WPJAgMAb76Y",
        "colab_type": "code",
        "colab": {
          "base_uri": "https://localhost:8080/",
          "height": 162
        },
        "outputId": "cce42fb7-9244-444f-c7cc-af1e974f75c5"
      },
      "source": [
        "import requests\n",
        "url=\"https://calendarific.com/api/v2/holidays?&api_key=&year=2020&country=2901a7819a5f324c2f033b13ea6922f39c8285ca\"\n",
        "while(1):\n",
        "  country=input(\"Give country name :\")\n",
        "  my_url=url+country\n",
        "  responses=requests.get(my_url)\n",
        "  Description=responses.content\n",
        "  print(\"Holidays description:\\n\\n\",Description)\n",
        "  print(\"\\n\")\n"
      ],
      "execution_count": 0,
      "outputs": [
        {
          "output_type": "stream",
          "text": [
            "Give country name :india\n",
            "Holidays description:\n",
            "\n",
            " b'\\n{\"meta\":{\"code\":401,\"error_type\":\"auth failed\",\"error_detail\":\"Missing or invalid api credentials. See https:\\\\/\\\\/calendarific.com\\\\/api for details.\"},\"response\":[]}'\n",
            "\n",
            "\n"
          ],
          "name": "stdout"
        }
      ]
    }
  ]
}